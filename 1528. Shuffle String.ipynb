{
 "cells": [
  {
   "cell_type": "markdown",
   "metadata": {
    "pycharm": {
     "is_executing": true
    }
   },
   "source": [
    "1528. Shuffle String\n",
    "https://leetcode.com/problems/shuffle-string/"
   ]
  },
  {
   "cell_type": "code",
   "execution_count": 11,
   "metadata": {
    "pycharm": {
     "name": "#%%\n"
    }
   },
   "outputs": [],
   "source": [
    "class Solution {\n",
    "    fun restoreString(s: String, indices: IntArray): String {\n",
    "        val resultArray = CharArray(s.length)\n",
    "        s.forEachIndexed  { index, char ->\n",
    "            resultArray[indices[index]] = char\n",
    "        }\n",
    "        return String(resultArray)\n",
    "    }\n",
    "}"
   ]
  },
  {
   "cell_type": "code",
   "execution_count": 12,
   "metadata": {
    "pycharm": {
     "name": "#%%\n"
    }
   },
   "outputs": [
    {
     "data": {
      "text/plain": [
       "arigatou"
      ]
     },
     "execution_count": 12,
     "metadata": {
      "new_classpath": []
     },
     "output_type": "execute_result"
    }
   ],
   "source": [
    "Solution()\n",
    "    .restoreString(\"aaiougrt\", intArrayOf(4,0,2,6,7,3,1,5))"
   ]
  },
  {
   "cell_type": "code",
   "execution_count": null,
   "metadata": {},
   "outputs": [],
   "source": []
  }
 ],
 "metadata": {
  "kernelspec": {
   "display_name": "Kotlin",
   "language": "kotlin",
   "name": "kotlin"
  },
  "language_info": {
   "codemirror_mode": "text/x-kotlin",
   "file_extension": ".kt",
   "mimetype": "text/x-kotlin",
   "name": "kotlin",
   "pygments_lexer": "kotlin",
   "version": "1.4.30-dev-3354"
  },
  "pycharm": {
   "stem_cell": {
    "cell_type": "raw",
    "metadata": {
     "collapsed": false
    },
    "source": [
     "println(\"test\")\n"
    ]
   }
  }
 },
 "nbformat": 4,
 "nbformat_minor": 4
}
